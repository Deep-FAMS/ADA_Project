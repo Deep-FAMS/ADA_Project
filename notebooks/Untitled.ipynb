{
 "cells": [
  {
   "cell_type": "code",
   "execution_count": 1,
   "metadata": {},
   "outputs": [
    {
     "name": "stdout",
     "output_type": "stream",
     "text": [
      "/lustre/work/chaselab/malyetama/ADA_Project\n"
     ]
    }
   ],
   "source": [
    "import os\n",
    "WORK = os.environ[\"WORK\"]\n",
    "PROJ_DIR = f'{WORK}/ADA_Project'\n",
    "os.chdir(PROJ_DIR)\n",
    "print(os.getcwd())\n",
    "\n",
    "import sys\n",
    "sys.path.insert(0, f'{WORK}/ADA_Project')\n",
    "sys.path.insert(0, f'{WORK}/ADA_Project/DeepFAMS')"
   ]
  },
  {
   "cell_type": "code",
   "execution_count": 2,
   "metadata": {},
   "outputs": [
    {
     "name": "stdout",
     "output_type": "stream",
     "text": [
      "Tensorflow version: 1.14.0\n"
     ]
    }
   ],
   "source": [
    "from glob import glob\n",
    "from tqdm import tqdm\n",
    "from pathlib import Path\n",
    "import shutil\n",
    "from pprint import pprint\n",
    "from datetime import datetime\n",
    "\n",
    "import DeepFAMS"
   ]
  },
  {
   "cell_type": "code",
   "execution_count": 16,
   "metadata": {},
   "outputs": [],
   "source": [
    "def backup_pickles(PROJ_DIR):\n",
    "    \n",
    "    Tstamp = datetime.now().strftime(\"%m%d%Y_%H%M\")\n",
    "    \n",
    "    WORK = Path(PROJ_DIR).parent\n",
    "    backups_folder = f'{WORK}/ADA_Project_pkl_backups/{Tstamp}'\n",
    "    Path(backups_folder).mkdir(parents=True, exist_ok=True)\n",
    "    \n",
    "    TRfolders = glob(f'{PROJ_DIR}/training_runs/*')\n",
    "    \n",
    "    latest_snaps = []\n",
    "    \n",
    "    for folder in TRfolders:\n",
    "        for num in range(-1, -10, -1):\n",
    "            files = sorted(glob(folder + \"/**/*\"))\n",
    "            files = [x for x in files if 'network-snapshot' in x]\n",
    "            if files == []:\n",
    "                continue\n",
    "            else:\n",
    "                latest_snap = sorted(files)[-1]\n",
    "                latest_snaps.append(latest_snap)\n",
    "                break\n",
    "\n",
    "\n",
    "    print('=' * 100,\n",
    "         '\\nLatest snaps:\\n')\n",
    "    pprint(latest_snaps)\n",
    "    print('=' * 100, '\\n')\n",
    "\n",
    "    for pkl in latest_snaps:\n",
    "        pkl_dst_name = f'{backups_folder}/{Path(pkl).parent.name}__{Path(pkl).name}'\n",
    "        shutil.copyfile(pkl, pkl_dst_name)\n",
    "        print(f'Copied: {Path(pkl).parent.parent.name.replace(\"_training-runs\", \"\")}\\'s latest pickle '\n",
    "             f'to ==> {pkl_dst_name}')\n",
    "\n",
    "    print('\\nUploading to Google Drive...')\n",
    "    \n",
    "    DeepFAMS.utils.executePopen(f'''#!/bin/bash\n",
    "    module load rclone\n",
    "    rclone copy {backups_folder} GoogleDrive:/ADA_Project_pkl_backups/{Path(backups_folder).name}''',\n",
    "    PROJ_DIR)\n",
    "\n",
    "    print('\\nDone!')"
   ]
  },
  {
   "cell_type": "code",
   "execution_count": null,
   "metadata": {},
   "outputs": [
    {
     "name": "stdout",
     "output_type": "stream",
     "text": [
      "==================================================================================================== \n",
      "Latest snaps:\n",
      "\n",
      "['/work/chaselab/malyetama/ADA_Project/training_runs/AFHQ_training-runs/00001-AFHQ_custom-auto2-resumecustom/network-snapshot-000086.pkl',\n",
      " '/work/chaselab/malyetama/ADA_Project/training_runs/metfaces_training-runs/00003-metfaces_custom-auto2-resumecustom/network-snapshot-000225.pkl',\n",
      " '/work/chaselab/malyetama/ADA_Project/training_runs/StanfordDogs_training-runs/00002-StanfordDogs_custom-auto2-resumecustom/network-snapshot-000110.pkl',\n",
      " '/work/chaselab/malyetama/ADA_Project/training_runs/cars196_training-runs/00012-cars196_custom-auto2-resumecustom/network-snapshot-000245.pkl',\n",
      " '/work/chaselab/malyetama/ADA_Project/training_runs/AFHQ-DOG_training-runs/00002-AFHQ-DOG_custom-auto2-resumecustom/network-snapshot-000061.pkl',\n",
      " '/work/chaselab/malyetama/ADA_Project/training_runs/102flowers_training-runs/00022-102flowers_custom-auto2-resumecustom/network-snapshot-000245.pkl']\n",
      "==================================================================================================== \n",
      "\n",
      "Copied: AFHQ's latest pickle to ==> /work/chaselab/malyetama/ADA_Project_pkl_backups/03192021_1254/00001-AFHQ_custom-auto2-resumecustom__network-snapshot-000086.pkl\n",
      "Copied: metfaces's latest pickle to ==> /work/chaselab/malyetama/ADA_Project_pkl_backups/03192021_1254/00003-metfaces_custom-auto2-resumecustom__network-snapshot-000225.pkl\n",
      "Copied: StanfordDogs's latest pickle to ==> /work/chaselab/malyetama/ADA_Project_pkl_backups/03192021_1254/00002-StanfordDogs_custom-auto2-resumecustom__network-snapshot-000110.pkl\n",
      "Copied: cars196's latest pickle to ==> /work/chaselab/malyetama/ADA_Project_pkl_backups/03192021_1254/00012-cars196_custom-auto2-resumecustom__network-snapshot-000245.pkl\n",
      "Copied: AFHQ-DOG's latest pickle to ==> /work/chaselab/malyetama/ADA_Project_pkl_backups/03192021_1254/00002-AFHQ-DOG_custom-auto2-resumecustom__network-snapshot-000061.pkl\n",
      "Copied: 102flowers's latest pickle to ==> /work/chaselab/malyetama/ADA_Project_pkl_backups/03192021_1254/00022-102flowers_custom-auto2-resumecustom__network-snapshot-000245.pkl\n",
      "\n",
      "Uploading to Google Drive...\n"
     ]
    }
   ],
   "source": [
    "backup_pickles(PROJ_DIR)"
   ]
  },
  {
   "cell_type": "code",
   "execution_count": null,
   "metadata": {},
   "outputs": [],
   "source": []
  }
 ],
 "metadata": {
  "kernelspec": {
   "display_name": "Python (ada-env)",
   "language": "python",
   "name": "ada-env"
  },
  "language_info": {
   "codemirror_mode": {
    "name": "ipython",
    "version": 3
   },
   "file_extension": ".py",
   "mimetype": "text/x-python",
   "name": "python",
   "nbconvert_exporter": "python",
   "pygments_lexer": "ipython3",
   "version": "3.7.3"
  }
 },
 "nbformat": 4,
 "nbformat_minor": 2
}
