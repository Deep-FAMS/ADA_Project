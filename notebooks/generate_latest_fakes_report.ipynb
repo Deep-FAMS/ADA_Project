{
 "cells": [
  {
   "cell_type": "code",
   "execution_count": 1,
   "metadata": {},
   "outputs": [],
   "source": [
    "import os\n",
    "WORK = os.environ[\"WORK\"]\n",
    "PROJ_DIR = f'{WORK}/ADA_Project'\n",
    "os.chdir(PROJ_DIR)\n",
    "\n",
    "from glob import glob\n",
    "from tqdm import tqdm\n",
    "from pathlib import Path\n",
    "import shutil\n",
    "from pprint import pprint\n",
    "from datetime import datetime\n",
    "import subprocess\n",
    "import random\n",
    "import PIL\n",
    "import matplotlib.pyplot as plt\n",
    "import base64\n",
    "import requests\n",
    "import dotenv\n",
    "from datetime import datetime\n",
    "from IPython.display import Markdown, display"
   ]
  },
  {
   "cell_type": "code",
   "execution_count": 2,
   "metadata": {},
   "outputs": [],
   "source": [
    "def generate_latest_fakes_report(PROJ_DIR, verbose=1):\n",
    "    \n",
    "    def upload_img(image, token):\n",
    "        with open(image, \"rb\") as file:\n",
    "            url = \"https://api.imgbb.com/1/upload\"\n",
    "            parameters = {\n",
    "                \"key\": token,\n",
    "                \"image\": base64.b64encode(file.read()),\n",
    "            }\n",
    "            res = requests.post(url, parameters)\n",
    "            link = res.json()\n",
    "            url = link['data']['url']\n",
    "            return url\n",
    "        \n",
    "    dotenv.load_dotenv(f'{PROJ_DIR}/.env')\n",
    "    token = os.getenv('TOKEN')\n",
    "\n",
    "    mb_size = lambda x: Path(x).stat().st_size / (1024*1024)\n",
    "    dir_up = lambda x, y: \"/\".join(Path(x).parts[y:])\n",
    "    \n",
    "    WORK = Path(PROJ_DIR).parent\n",
    "    TRfolders_ = f'{PROJ_DIR}/training_runs'\n",
    "    TRfolders = glob(f'{TRfolders_}/*')\n",
    "\n",
    "    md_content = []\n",
    "    latest_fakes = []\n",
    "    \n",
    "    now = datetime.now()\n",
    "    date_time = now.strftime('%m/%d/%Y, %H:%M:%S')\n",
    "    md_content.append('# Latest fakes\\n')\n",
    "    md_content.append(f'## Date and time: {date_time}\\n')\n",
    "\n",
    "    for folder in TRfolders:\n",
    "        for num in range(-1, -10, -1):\n",
    "            files = sorted(glob(folder + \"/**/*\"))\n",
    "            files = [x for x in files if 'fakes0' in x]\n",
    "            if files == []:\n",
    "                continue\n",
    "            else:\n",
    "                latest_fake = sorted(files)[-1]\n",
    "                latest_fakes.append(latest_fake)\n",
    "                break\n",
    "    \n",
    "    if verbose == 1:\n",
    "        print('=' * 90,\n",
    "             '\\n\\nLatest fakes:\\n')\n",
    "        pprint([x.replace(str(TRfolders_), '') for x in latest_fakes])\n",
    "        print('\\n', '=' * 90, '\\n')\n",
    "\n",
    "    for img in latest_fakes:\n",
    "        image = PIL.Image.open(img)\n",
    "        resized_path = f'{PROJ_DIR}/.tmp_imgs/{Path(img).name}'\n",
    "        output_dim = tuple(x // 4 for x in image.size)\n",
    "        resized = image.resize(output_dim)\n",
    "        resized.save(resized_path)\n",
    "        if verbose == 1:\n",
    "            print(Path(img).name,\n",
    "                f'Resized from {image.size} [{mb_size(img):.2f}MB] to ==> '\n",
    "                  f'{output_dim} [{mb_size(resized_path):.2f}MB]')\n",
    "        \n",
    "        url = upload_img(resized_path, token)\n",
    "        if verbose == 1:\n",
    "            print(f'Link ==> {url}\\n')\n",
    "        img_subdir = dir_up(img, -3)\n",
    "        \n",
    "        md_content.append(f'### {img_subdir}\\n'\n",
    "              f'![{Path(resized_path).name}]({url} \"{img_subdir}\")'\n",
    "              '\\n\\n')\n",
    "    \n",
    "    Tstamp = datetime.now().strftime('%m_%d_%Y__%H_%M')\n",
    "    report_path = f'{PROJ_DIR}/latest_fakes_markdown_reports/{Tstamp}.md'\n",
    "    with open(report_path, 'w') as f:\n",
    "        f.write(''.join(md_content).replace('<br></br>', '\\n'))\n",
    "    \n",
    "    if verbose == 1:\n",
    "        print(f'Generated a report at ==> {report_path}')\n",
    "        \n",
    "    return report_path"
   ]
  },
  {
   "cell_type": "code",
   "execution_count": 3,
   "metadata": {},
   "outputs": [
    {
     "name": "stdout",
     "output_type": "stream",
     "text": [
      "========================================================================================== \n",
      "\n",
      "Latest fakes:\n",
      "\n",
      "['/AFHQ-WILD_training-runs/00003-AFHQ-WILD_custom-auto2-resumecustom/fakes003113.png',\n",
      " '/AFHQ_training-runs/00002-AFHQ_custom-auto2-resumecustom/fakes002211.png',\n",
      " '/metfaces_training-runs/00004-metfaces_custom-auto2-resumecustom/fakes000846.png',\n",
      " '/StanfordDogs_training-runs/00003-StanfordDogs_custom-auto2-resumecustom/fakes002826.png',\n",
      " '/cars196_training-runs/00012-cars196_custom-auto2-resumecustom/fakes004178.png',\n",
      " '/AFHQ-DOG_training-runs/00003-AFHQ-DOG_custom-auto2-resumecustom/fakes002457.png',\n",
      " '/102flowers_training-runs/00022-102flowers_custom-auto2-resumecustom/fakes004300.png',\n",
      " '/gen1_pokemon_training-runs/00007-gen1_pokemon_custom-auto2-resumecustom/fakes000086.png']\n",
      "\n",
      " ========================================================================================== \n",
      "\n",
      "fakes003113.png Resized from (7680, 4096) [66.31MB] to ==> (1920, 1024) [4.88MB]\n",
      "Link ==> https://i.ibb.co/6v293tx/5fd41961782c.png\n",
      "\n",
      "fakes002211.png Resized from (7680, 4096) [62.36MB] to ==> (1920, 1024) [4.57MB]\n",
      "Link ==> https://i.ibb.co/GP0MQv3/99879c53cfcc.png\n",
      "\n",
      "fakes000846.png Resized from (7680, 4096) [53.64MB] to ==> (1920, 1024) [3.97MB]\n",
      "Link ==> https://i.ibb.co/Kr8sZd3/20404bdf027b.png\n",
      "\n",
      "fakes002826.png Resized from (7680, 4096) [61.36MB] to ==> (1920, 1024) [4.58MB]\n",
      "Link ==> https://i.ibb.co/BrR0y8s/ca928549c65e.png\n",
      "\n",
      "fakes004178.png Resized from (7680, 4096) [51.41MB] to ==> (1920, 1024) [4.13MB]\n",
      "Link ==> https://i.ibb.co/y4ZRzCh/1b8194c5b309.png\n",
      "\n",
      "fakes002457.png Resized from (7680, 4096) [59.06MB] to ==> (1920, 1024) [4.44MB]\n",
      "Link ==> https://i.ibb.co/LQM6W8L/d3f5136ade51.png\n",
      "\n",
      "fakes004300.png Resized from (7680, 4096) [54.46MB] to ==> (1920, 1024) [4.44MB]\n",
      "Link ==> https://i.ibb.co/WW9kpTt/4ab5ddf20cb3.png\n",
      "\n",
      "fakes000086.png Resized from (7680, 4096) [37.29MB] to ==> (1920, 1024) [3.44MB]\n",
      "Link ==> https://i.ibb.co/KV3NqTF/fe501436248d.png\n",
      "\n",
      "Generated a report at ==> /work/chaselab/malyetama/ADA_Project/latest_fakes_markdown_reports/03_20_2021__15_15.md\n"
     ]
    },
    {
     "data": {
      "text/plain": [
       "'/work/chaselab/malyetama/ADA_Project/latest_fakes_markdown_reports/03_20_2021__15_15.md'"
      ]
     },
     "execution_count": 3,
     "metadata": {},
     "output_type": "execute_result"
    }
   ],
   "source": [
    "report_path = generate_latest_fakes_report(PROJ_DIR, verbose=1)"
   ]
  },
  {
   "cell_type": "code",
   "execution_count": 4,
   "metadata": {},
   "outputs": [
    {
     "data": {
      "text/markdown": [
       "# Latest fakes\n",
       "## Date and time: 03/20/2021, 15:14:53\n",
       "### AFHQ-WILD_training-runs/00003-AFHQ-WILD_custom-auto2-resumecustom/fakes003113.png\n",
       "![fakes003113.png](https://i.ibb.co/6v293tx/5fd41961782c.png \"AFHQ-WILD_training-runs/00003-AFHQ-WILD_custom-auto2-resumecustom/fakes003113.png\")\n",
       "\n",
       "### AFHQ_training-runs/00002-AFHQ_custom-auto2-resumecustom/fakes002211.png\n",
       "![fakes002211.png](https://i.ibb.co/GP0MQv3/99879c53cfcc.png \"AFHQ_training-runs/00002-AFHQ_custom-auto2-resumecustom/fakes002211.png\")\n",
       "\n",
       "### metfaces_training-runs/00004-metfaces_custom-auto2-resumecustom/fakes000846.png\n",
       "![fakes000846.png](https://i.ibb.co/Kr8sZd3/20404bdf027b.png \"metfaces_training-runs/00004-metfaces_custom-auto2-resumecustom/fakes000846.png\")\n",
       "\n",
       "### StanfordDogs_training-runs/00003-StanfordDogs_custom-auto2-resumecustom/fakes002826.png\n",
       "![fakes002826.png](https://i.ibb.co/BrR0y8s/ca928549c65e.png \"StanfordDogs_training-runs/00003-StanfordDogs_custom-auto2-resumecustom/fakes002826.png\")\n",
       "\n",
       "### cars196_training-runs/00012-cars196_custom-auto2-resumecustom/fakes004178.png\n",
       "![fakes004178.png](https://i.ibb.co/y4ZRzCh/1b8194c5b309.png \"cars196_training-runs/00012-cars196_custom-auto2-resumecustom/fakes004178.png\")\n",
       "\n",
       "### AFHQ-DOG_training-runs/00003-AFHQ-DOG_custom-auto2-resumecustom/fakes002457.png\n",
       "![fakes002457.png](https://i.ibb.co/LQM6W8L/d3f5136ade51.png \"AFHQ-DOG_training-runs/00003-AFHQ-DOG_custom-auto2-resumecustom/fakes002457.png\")\n",
       "\n",
       "### 102flowers_training-runs/00022-102flowers_custom-auto2-resumecustom/fakes004300.png\n",
       "![fakes004300.png](https://i.ibb.co/WW9kpTt/4ab5ddf20cb3.png \"102flowers_training-runs/00022-102flowers_custom-auto2-resumecustom/fakes004300.png\")\n",
       "\n",
       "### gen1_pokemon_training-runs/00007-gen1_pokemon_custom-auto2-resumecustom/fakes000086.png\n",
       "![fakes000086.png](https://i.ibb.co/KV3NqTF/fe501436248d.png \"gen1_pokemon_training-runs/00007-gen1_pokemon_custom-auto2-resumecustom/fakes000086.png\")\n",
       "\n"
      ],
      "text/plain": [
       "<IPython.core.display.Markdown object>"
      ]
     },
     "metadata": {},
     "output_type": "display_data"
    }
   ],
   "source": [
    "display(Markdown('/work/chaselab/malyetama/ADA_Project/latest_fakes_markdown_reports/03_20_2021__15_15.md'))"
   ]
  },
  {
   "cell_type": "code",
   "execution_count": null,
   "metadata": {},
   "outputs": [],
   "source": []
  }
 ],
 "metadata": {
  "kernelspec": {
   "display_name": "Python (ada-env)",
   "language": "python",
   "name": "ada-env"
  },
  "language_info": {
   "codemirror_mode": {
    "name": "ipython",
    "version": 3
   },
   "file_extension": ".py",
   "mimetype": "text/x-python",
   "name": "python",
   "nbconvert_exporter": "python",
   "pygments_lexer": "ipython3",
   "version": "3.7.3"
  }
 },
 "nbformat": 4,
 "nbformat_minor": 2
}
