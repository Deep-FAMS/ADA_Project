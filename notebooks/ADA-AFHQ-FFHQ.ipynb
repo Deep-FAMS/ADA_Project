{
 "cells": [
  {
   "cell_type": "code",
   "execution_count": 1,
   "metadata": {},
   "outputs": [
    {
     "name": "stdout",
     "output_type": "stream",
     "text": [
      "Tensorflow version: 1.14.0\n"
     ]
    }
   ],
   "source": [
    "from glob import glob\n",
    "from tqdm import tqdm\n",
    "from pathlib import Path\n",
    "import zipfile\n",
    "import sys\n",
    "import dotenv\n",
    "import os\n",
    "\n",
    "import warnings\n",
    "warnings.filterwarnings(\"ignore\", category=FutureWarning)\n",
    "\n",
    "import tensorflow as tf\n",
    "tf.compat.v1.enable_eager_execution()\n",
    "\n",
    "dotenv.load_dotenv(override=True)\n",
    "WORK = os.getenv('WORK')\n",
    "sys.path.insert(0, f'{WORK}/ADA_Project')\n",
    "sys.path.insert(0, f'{WORK}/ADA_Project/StyleGAN2-ADA')\n",
    "\n",
    "import DeepFAMS\n",
    "\n",
    "WORK, PROJ_DIR = DeepFAMS.utils.set_env()"
   ]
  },
  {
   "cell_type": "code",
   "execution_count": 2,
   "metadata": {},
   "outputs": [],
   "source": [
    "RAW_IMGS_DIR, RESIZED_IMGS_DIR, DATA_CUSTOM_DIR, TRAIN_RUNS_DIR = DeepFAMS.utils.return_dirs(\n",
    "    PROJ_DIR, 'FFHQ')"
   ]
  },
  {
   "cell_type": "code",
   "execution_count": null,
   "metadata": {},
   "outputs": [],
   "source": [
    "# ! $WORK/.conda/envs/ada-env/bin/kaggle datasets download -d \\\n",
    "#     arnaud58/flickrfaceshq-dataset-ffhq -p $WORK/ADA_Project/datasets"
   ]
  },
  {
   "cell_type": "code",
   "execution_count": 12,
   "metadata": {},
   "outputs": [
    {
     "name": "stderr",
     "output_type": "stream",
     "text": [
      "Extracting: 100%|██████████| 52001/52001 [09:29<00:00, 91.36it/s] \n"
     ]
    }
   ],
   "source": [
    "# downloaded_file = f'{Path(RAW_IMGS_DIR).parent}/flickrfaceshq-dataset-ffhq.zip'\n",
    "\n",
    "# with zipfile.ZipFile(downloaded_file) as zf:    \n",
    "#     for member in tqdm(zf.infolist(), desc='Extracting'):\n",
    "#         try:\n",
    "#             zf.extract(member, RAW_IMGS_DIR)\n",
    "#         except zipfile.error as e:\n",
    "#             pass"
   ]
  },
  {
   "cell_type": "code",
   "execution_count": 14,
   "metadata": {},
   "outputs": [
    {
     "name": "stdout",
     "output_type": "stream",
     "text": [
      "52001\n"
     ]
    }
   ],
   "source": [
    "raw_imgs = glob(f'{RAW_IMGS_DIR}/*')\n",
    "print(len(raw_imgs))"
   ]
  },
  {
   "cell_type": "code",
   "execution_count": 15,
   "metadata": {},
   "outputs": [
    {
     "name": "stderr",
     "output_type": "stream",
     "text": [
      "100%|██████████| 52001/52001 [30:21<00:00, 28.55it/s] \n"
     ]
    }
   ],
   "source": [
    "# for x in tqdm(raw_imgs):\n",
    "#     DeepFAMS.preprocessing.resize_imgs(x, (256, 256), RESIZED_IMGS_DIR)"
   ]
  },
  {
   "cell_type": "code",
   "execution_count": 16,
   "metadata": {},
   "outputs": [
    {
     "name": "stdout",
     "output_type": "stream",
     "text": [
      "Raw: 52001, Resized: 52001\n"
     ]
    }
   ],
   "source": [
    "print(f'Raw: {len(raw_imgs)}, Resized: {len(glob(f\"{RESIZED_IMGS_DIR}/*\"))}')"
   ]
  },
  {
   "cell_type": "code",
   "execution_count": 17,
   "metadata": {},
   "outputs": [
    {
     "name": "stdout",
     "output_type": "stream",
     "text": [
      "Loading images from \"/work/chaselab/malyetama/ADA_Project/datasets/FFHQ_resized\"\n",
      "Creating dataset \"/work/chaselab/malyetama/ADA_Project/datasets/FFHQ_custom\"\n",
      "Added 52001 images.                     \n"
     ]
    }
   ],
   "source": [
    "# DeepFAMS.preprocessing.tf_record_exporter(\n",
    "#     tfrecord_dir=DATA_CUSTOM_DIR, image_dir=RESIZED_IMGS_DIR, shuffle=1)"
   ]
  },
  {
   "cell_type": "code",
   "execution_count": null,
   "metadata": {},
   "outputs": [],
   "source": [
    "DeepFAMS.utils.executePopen(f'''#!/bin/bash\n",
    "module load anaconda\n",
    "module load compiler/gcc/4.7\n",
    "module load cuda\n",
    "$WORK/.conda/envs/ada-env/bin/python $WORK/ADA_Project/StyleGAN2-ada/train.py \\\n",
    "--outdir={TRAIN_RUNS_DIR} \\\n",
    "--gpus=8 \\\n",
    "--data={DATA_CUSTOM_DIR} \\\n",
    "--snap=1 \\\n",
    "--kimg=1''', PROJ_DIR)"
   ]
  },
  {
   "cell_type": "code",
   "execution_count": null,
   "metadata": {},
   "outputs": [],
   "source": [
    "for num in range(-1, -10, -1):\n",
    "    files = DeepFAMS.utils.last_snap(num, TRAIN_RUNS_DIR)\n",
    "    if files != []:\n",
    "        break\n",
    "\n",
    "latest_snap = sorted(files)[-1]\n",
    "print(latest_snap)"
   ]
  },
  {
   "cell_type": "code",
   "execution_count": null,
   "metadata": {},
   "outputs": [],
   "source": [
    "run_desc, training_options = DeepFAMS.setup_training_options(\n",
    "    gpus       = 2,\n",
    "    snap       = 1,\n",
    "    data       = DATA_CUSTOM_DIR,\n",
    "    resume     = latest_snap\n",
    ")"
   ]
  },
  {
   "cell_type": "code",
   "execution_count": null,
   "metadata": {},
   "outputs": [],
   "source": [
    "DeepFAMS.utils.execute('nvidia-smi')"
   ]
  },
  {
   "cell_type": "code",
   "execution_count": null,
   "metadata": {},
   "outputs": [],
   "source": [
    "DeepFAMS.RunTraining(outdir=TRAIN_RUNS_DIR, seed=1000,\n",
    "             dry_run=True, run_desc=run_desc, training_options=training_options)"
   ]
  },
  {
   "cell_type": "code",
   "execution_count": null,
   "metadata": {},
   "outputs": [],
   "source": [
    "tf.compat.v1.disable_eager_execution()\n",
    "DeepFAMS.RunTraining(outdir=TRAIN_RUNS_DIR, seed=1000,\n",
    "             dry_run=False, run_desc=run_desc, training_options=training_options)"
   ]
  },
  {
   "cell_type": "code",
   "execution_count": null,
   "metadata": {},
   "outputs": [],
   "source": []
  }
 ],
 "metadata": {
  "kernelspec": {
   "display_name": "Python (ada-env)",
   "language": "python",
   "name": "ada-env"
  },
  "language_info": {
   "codemirror_mode": {
    "name": "ipython",
    "version": 3
   },
   "file_extension": ".py",
   "mimetype": "text/x-python",
   "name": "python",
   "nbconvert_exporter": "python",
   "pygments_lexer": "ipython3",
   "version": "3.7.3"
  }
 },
 "nbformat": 4,
 "nbformat_minor": 2
}
