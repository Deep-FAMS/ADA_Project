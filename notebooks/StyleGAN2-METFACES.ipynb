{
 "cells": [
  {
   "cell_type": "markdown",
   "metadata": {},
   "source": [
    "## Here, we are training a StyleGAN2 model from scratch to compare to StyleGAN2-ADA on the same dataset"
   ]
  },
  {
   "cell_type": "code",
   "execution_count": 1,
   "metadata": {},
   "outputs": [
    {
     "name": "stdout",
     "output_type": "stream",
     "text": [
      "Tensorflow version: 1.14.0\n"
     ]
    }
   ],
   "source": [
    "from glob import glob\n",
    "from tqdm import tqdm\n",
    "from pathlib import Path\n",
    "import sys\n",
    "import dotenv\n",
    "import os\n",
    "\n",
    "import warnings\n",
    "warnings.filterwarnings(\"ignore\", category=FutureWarning)\n",
    "\n",
    "dotenv.load_dotenv(override=True)\n",
    "WORK = os.getenv('WORK')\n",
    "sys.path.insert(0, f'{WORK}/ADA_Project')\n",
    "sys.path.insert(0, f'{WORK}/ADA_Project/stylegan2')\n",
    "import DeepFAMS\n",
    "\n",
    "WORK, PROJ_DIR = DeepFAMS.utils.set_env()"
   ]
  },
  {
   "cell_type": "code",
   "execution_count": 2,
   "metadata": {},
   "outputs": [],
   "source": [
    "DATASET_NAME = 'metfaces'"
   ]
  },
  {
   "cell_type": "code",
   "execution_count": 3,
   "metadata": {},
   "outputs": [],
   "source": [
    "RAW_IMGS_DIR, RESIZED_IMGS_DIR, DATA_CUSTOM_DIR, TRAIN_RUNS_DIR = DeepFAMS.utils.return_dirs(\n",
    "    PROJ_DIR, DATASET_NAME)"
   ]
  },
  {
   "cell_type": "code",
   "execution_count": 4,
   "metadata": {},
   "outputs": [],
   "source": [
    "RAW_IMGS_DIR_ = f'{PROJ_DIR}/datasets/metfaces-release/images'\n",
    "RESIZED_IMGS_DIR_ = f'{PROJ_DIR}/datasets/metfaces_resized_imgs'\n",
    "TRAIN_RUNS_DIR_ = f'{Path(TRAIN_RUNS_DIR).parent}/StyleGAN2_{Path(TRAIN_RUNS_DIR).name}'"
   ]
  },
  {
   "cell_type": "code",
   "execution_count": 5,
   "metadata": {},
   "outputs": [
    {
     "name": "stdout",
     "output_type": "stream",
     "text": [
      "1336\n"
     ]
    }
   ],
   "source": [
    "raw_imgs = glob(f'{RAW_IMGS_DIR_}/*')\n",
    "print(len(raw_imgs))"
   ]
  },
  {
   "cell_type": "code",
   "execution_count": 6,
   "metadata": {},
   "outputs": [],
   "source": [
    "# for x in tqdm(raw_imgs):\n",
    "#     DeepFAMS.preprocessing.resize_imgs(x, (256, 256), RESIZED_IMGS_DIR)"
   ]
  },
  {
   "cell_type": "code",
   "execution_count": 7,
   "metadata": {},
   "outputs": [
    {
     "name": "stdout",
     "output_type": "stream",
     "text": [
      "Raw: 1336, Resized: 1336\n"
     ]
    }
   ],
   "source": [
    "print(f'Raw: {len(raw_imgs)}, Resized: {len(glob(f\"{RESIZED_IMGS_DIR_}/*\"))}')"
   ]
  },
  {
   "cell_type": "code",
   "execution_count": null,
   "metadata": {},
   "outputs": [],
   "source": [
    "# DeepFAMS.preprocessing.tf_record_exporter(\n",
    "#     tfrecord_dir=DATA_CUSTOM_DIR, image_dir=RESIZED_IMGS_DIR, shuffle=1)"
   ]
  },
  {
   "cell_type": "code",
   "execution_count": 8,
   "metadata": {},
   "outputs": [],
   "source": [
    "# # Initial run to create the first checkpoint\n",
    "# DeepFAMS.utils.executePopen(f'''#!/bin/bash\n",
    "# module load anaconda\n",
    "# module load compiler/gcc/6.1\n",
    "# module load cuda/10.0\n",
    "# conda activate stylegan2\n",
    "# python3 {PROJ_DIR}/stylegan2/run_training.py \\\n",
    "#     --num-gpus=2 \\\n",
    "#     --data-dir=$WORK/ADA_Project/datasets \\\n",
    "#     --result-dir={TRAIN_RUNS_DIR_} \\\n",
    "#     --config=config-f \\\n",
    "#     --mirror-augment=true \\\n",
    "#     --total-kimg=1 \\\n",
    "#     --dataset={Path(DATA_CUSTOM_DIR).name}''', PROJ_DIR)"
   ]
  },
  {
   "cell_type": "code",
   "execution_count": 10,
   "metadata": {},
   "outputs": [
    {
     "name": "stdout",
     "output_type": "stream",
     "text": [
      "/work/chaselab/malyetama/ADA_Project/training_runs/StyleGAN2_metfaces_training-runs/00000-stylegan2-metfaces_custom-2gpu-config-f/network-snapshot-000000.pkl\n"
     ]
    }
   ],
   "source": [
    "for num in range(-1, -10, -1):\n",
    "    files = DeepFAMS.utils.last_snap(num, TRAIN_RUNS_DIR_)\n",
    "    if files != []:\n",
    "        break\n",
    "\n",
    "latest_snap = sorted(files)[-1]\n",
    "print(latest_snap)"
   ]
  },
  {
   "cell_type": "code",
   "execution_count": null,
   "metadata": {},
   "outputs": [],
   "source": [
    "DeepFAMS.utils.executePopen(f'''#!/bin/bash\n",
    "module load anaconda\n",
    "module load compiler/gcc/6.1\n",
    "module load cuda/10.0\n",
    "conda activate stylegan2\n",
    "python3 {PROJ_DIR}/stylegan2/run_training.py \\\n",
    "    --num-gpus=2 \\\n",
    "    --data-dir={PROJ_DIR}/datasets \\\n",
    "    --result-dir={TRAIN_RUNS_DIR_} \\\n",
    "    --config=config-f \\\n",
    "    --mirror-augment=true \\\n",
    "    --dataset={Path(DATA_CUSTOM_DIR).name}\n",
    "    --resume-pkl={latest_snap}''', PROJ_DIR)"
   ]
  },
  {
   "cell_type": "code",
   "execution_count": null,
   "metadata": {},
   "outputs": [],
   "source": []
  }
 ],
 "metadata": {
  "kernelspec": {
   "display_name": "Python (stylegan2)",
   "language": "python",
   "name": "stylegan2"
  },
  "language_info": {
   "codemirror_mode": {
    "name": "ipython",
    "version": 3
   },
   "file_extension": ".py",
   "mimetype": "text/x-python",
   "name": "python",
   "nbconvert_exporter": "python",
   "pygments_lexer": "ipython3",
   "version": "3.6.13"
  }
 },
 "nbformat": 4,
 "nbformat_minor": 2
}
