{
 "cells": [
  {
   "cell_type": "code",
   "execution_count": 11,
   "metadata": {},
   "outputs": [
    {
     "name": "stdout",
     "output_type": "stream",
     "text": [
      "/lustre/work/chaselab/malyetama/ADA_Project\n"
     ]
    }
   ],
   "source": [
    "import os\n",
    "WORK = os.environ[\"WORK\"]\n",
    "PROJ_DIR = f'{WORK}/ADA_Project'\n",
    "os.chdir(PROJ_DIR)\n",
    "print(os.getcwd())\n",
    "\n",
    "import sys\n",
    "sys.path.insert(0, f'{WORK}/ADA_Project')\n",
    "sys.path.insert(0, f'{WORK}/ADA_Project/DeepFAMS')"
   ]
  },
  {
   "cell_type": "code",
   "execution_count": 12,
   "metadata": {},
   "outputs": [],
   "source": [
    "from glob import glob\n",
    "import numpy as np\n",
    "import PIL.Image\n",
    "from tqdm import tqdm\n",
    "from pathlib import Path\n",
    "import urllib.request\n",
    "import tarfile\n",
    "import zipfile\n",
    "import subprocess\n",
    "\n",
    "import warnings\n",
    "warnings.filterwarnings(\"ignore\", category=FutureWarning)\n",
    "\n",
    "import tensorflow as tf\n",
    "tf.compat.v1.enable_eager_execution()\n",
    "\n",
    "import DeepFAMS"
   ]
  },
  {
   "cell_type": "code",
   "execution_count": 13,
   "metadata": {},
   "outputs": [],
   "source": [
    "RAW_IMGS_DIR, RESIZED_IMGS_DIR, DATA_CUSTOM_DIR, TRAIN_RUNS_DIR = DeepFAMS.utils.return_dirs(\n",
    "    PROJ_DIR, 'gen1_pokemon')"
   ]
  },
  {
   "cell_type": "code",
   "execution_count": 27,
   "metadata": {},
   "outputs": [],
   "source": [
    "! rm -rf /work/chaselab/malyetama/ADA_Project/datasets/gen1_pokemon_custom"
   ]
  },
  {
   "cell_type": "code",
   "execution_count": null,
   "metadata": {},
   "outputs": [],
   "source": [
    "# ! wget 'https://unomaha.box.com/shared/static/b2quhszs8d7qfh40nnt2sojcztoxmdop.zip' -O datasets/gen1_pokemon.zip"
   ]
  },
  {
   "cell_type": "code",
   "execution_count": null,
   "metadata": {},
   "outputs": [],
   "source": [
    "# import zipfile\n",
    "# with zipfile.ZipFile('datasets/gen1_pokemon.zip', 'r') as zip_ref:\n",
    "#     zip_ref.extractall(RAW_IMGS_DIR)"
   ]
  },
  {
   "cell_type": "code",
   "execution_count": 14,
   "metadata": {},
   "outputs": [
    {
     "name": "stdout",
     "output_type": "stream",
     "text": [
      "10842\n"
     ]
    }
   ],
   "source": [
    "raw_imgs = glob(f'{RAW_IMGS_DIR}/**/**/*')\n",
    "print(len(raw_imgs))"
   ]
  },
  {
   "cell_type": "code",
   "execution_count": 15,
   "metadata": {},
   "outputs": [],
   "source": [
    "# for x in tqdm(raw_imgs):\n",
    "#     if Path(x).suffix.lower() not in ['.jpg', '.jpeg', '.png']:\n",
    "#         continue\n",
    "#     else:\n",
    "#         DeepFAMS.preprocessing.resize_imgs(x, (256, 256), RESIZED_IMGS_DIR)"
   ]
  },
  {
   "cell_type": "code",
   "execution_count": 16,
   "metadata": {},
   "outputs": [
    {
     "name": "stdout",
     "output_type": "stream",
     "text": [
      "Raw: 10842, Resized: 9950\n"
     ]
    }
   ],
   "source": [
    "print(f'Raw: {len(raw_imgs)}, Resized: {len(glob(f\"{RESIZED_IMGS_DIR}/*\"))}')"
   ]
  },
  {
   "cell_type": "code",
   "execution_count": 30,
   "metadata": {},
   "outputs": [],
   "source": [
    "resized_imgs = glob(f\"{RESIZED_IMGS_DIR}/*\")\n",
    "for img in resized_imgs:\n",
    "    im = PIL.Image.open(img)\n",
    "    if im.size != (256, 256):\n",
    "        print(im.size, img)"
   ]
  },
  {
   "cell_type": "code",
   "execution_count": 31,
   "metadata": {},
   "outputs": [
    {
     "name": "stdout",
     "output_type": "stream",
     "text": [
      "Loading images from \"/work/chaselab/malyetama/ADA_Project/datasets/gen1_pokemon_resized\"\n",
      "Creating dataset \"/work/chaselab/malyetama/ADA_Project/datasets/gen1_pokemon_custom\"\n",
      "axes don't match array\n",
      "Failed to export /work/chaselab/malyetama/ADA_Project/datasets/gen1_pokemon_resized/e803276afa214ad0adc8bb54ca2fa13b.jpg\n",
      "10 / 9950\n",
      "Failed to export /work/chaselab/malyetama/ADA_Project/datasets/gen1_pokemon_resized/00000003.png\n",
      "axes don't match array\n",
      "Failed to export /work/chaselab/malyetama/ADA_Project/datasets/gen1_pokemon_resized/8c828f0c613f4feda674bf2eb8ca5d2d.jpg\n",
      "axes don't match array\n",
      "Failed to export /work/chaselab/malyetama/ADA_Project/datasets/gen1_pokemon_resized/8d18bd13c4a744129b1c22911ec932b6.jpg\n",
      "axes don't match array\n",
      "Failed to export /work/chaselab/malyetama/ADA_Project/datasets/gen1_pokemon_resized/2447ee218b3c4f5f976fa083cb0a42c5.jpg\n",
      "axes don't match array\n",
      "Failed to export /work/chaselab/malyetama/ADA_Project/datasets/gen1_pokemon_resized/2826f40da31b4caa80c0fef7e95f5d1d.jpg\n",
      "axes don't match array\n",
      "Failed to export /work/chaselab/malyetama/ADA_Project/datasets/gen1_pokemon_resized/135f57b9aa9c40e7846698637f7f4e33.jpg\n",
      "axes don't match array\n",
      "Failed to export /work/chaselab/malyetama/ADA_Project/datasets/gen1_pokemon_resized/e9b59bd70a8b478e897801f484419e24.jpg\n",
      "axes don't match array\n",
      "Failed to export /work/chaselab/malyetama/ADA_Project/datasets/gen1_pokemon_resized/c624252e8905496992a5ad93cc55ec55.jpg\n",
      "axes don't match array\n",
      "Failed to export /work/chaselab/malyetama/ADA_Project/datasets/gen1_pokemon_resized/82eaeda74664457d8229751bb4e08ea4.jpg\n",
      "axes don't match array\n",
      "Failed to export /work/chaselab/malyetama/ADA_Project/datasets/gen1_pokemon_resized/bea61c2262674b6ca8e4bc72beaa25c5.jpg\n",
      "250 / 9950\n",
      "Failed to export /work/chaselab/malyetama/ADA_Project/datasets/gen1_pokemon_resized/00000174.png\n",
      "axes don't match array\n",
      "Failed to export /work/chaselab/malyetama/ADA_Project/datasets/gen1_pokemon_resized/07b3208c45f24a5097241689c5fc4f62.jpg\n",
      "290 / 9950\n",
      "Failed to export /work/chaselab/malyetama/ADA_Project/datasets/gen1_pokemon_resized/00000081.png\n",
      "310 / 9950\n",
      "Failed to export /work/chaselab/malyetama/ADA_Project/datasets/gen1_pokemon_resized/00000011.png\n",
      "axes don't match array\n",
      "Failed to export /work/chaselab/malyetama/ADA_Project/datasets/gen1_pokemon_resized/dc9d548172934300869d698fd4af254a.jpg\n",
      "axes don't match array\n",
      "Failed to export /work/chaselab/malyetama/ADA_Project/datasets/gen1_pokemon_resized/07285b05acf144469019b8b661b4a801.jpg\n",
      "axes don't match array\n",
      "Failed to export /work/chaselab/malyetama/ADA_Project/datasets/gen1_pokemon_resized/88f9362eb0a74474bc6d3d4f33c58cf5.jpg\n",
      "axes don't match array\n",
      "Failed to export /work/chaselab/malyetama/ADA_Project/datasets/gen1_pokemon_resized/d4a78b679d24464196757a72be2cfc47.jpg\n",
      "390 / 9950\n",
      "Failed to export /work/chaselab/malyetama/ADA_Project/datasets/gen1_pokemon_resized/00000238.png\n",
      "axes don't match array\n",
      "Failed to export /work/chaselab/malyetama/ADA_Project/datasets/gen1_pokemon_resized/bdd69bb9ca6943e7b017c2a00564c5e0.jpg\n",
      "axes don't match array\n",
      "Failed to export /work/chaselab/malyetama/ADA_Project/datasets/gen1_pokemon_resized/cbc0bc1b8b6842ec897faaab7aab96db.jpg\n",
      "\n",
      "Failed to export /work/chaselab/malyetama/ADA_Project/datasets/gen1_pokemon_resized/00000097.png\n",
      "500 / 9950\n",
      "Failed to export /work/chaselab/malyetama/ADA_Project/datasets/gen1_pokemon_resized/00000168.png\n",
      "axes don't match array\n",
      "Failed to export /work/chaselab/malyetama/ADA_Project/datasets/gen1_pokemon_resized/63792ac9277d4b7b824c3ff06d843daa.jpg\n",
      "540 / 9950\n",
      "Failed to export /work/chaselab/malyetama/ADA_Project/datasets/gen1_pokemon_resized/00000112.png\n",
      "axes don't match array\n",
      "Failed to export /work/chaselab/malyetama/ADA_Project/datasets/gen1_pokemon_resized/07cfd5963517439fa0be9c2768cb6db7.jpg\n",
      "axes don't match array\n",
      "Failed to export /work/chaselab/malyetama/ADA_Project/datasets/gen1_pokemon_resized/d9bed0de736b40e5a237dc036678f08f.jpg\n",
      "axes don't match array\n",
      "Failed to export /work/chaselab/malyetama/ADA_Project/datasets/gen1_pokemon_resized/aa197ed1f4ae4bf9bb7b349b8873c4aa.jpg\n",
      "axes don't match array\n",
      "Failed to export /work/chaselab/malyetama/ADA_Project/datasets/gen1_pokemon_resized/9e638b536f1a458da8bf8c44fb3f7b6e.jpg\n",
      "axes don't match array\n",
      "Failed to export /work/chaselab/malyetama/ADA_Project/datasets/gen1_pokemon_resized/000330c872bf494297840bc44b38f6e2.jpg\n",
      "axes don't match array\n",
      "Failed to export /work/chaselab/malyetama/ADA_Project/datasets/gen1_pokemon_resized/846f1dd8b3f041faaa2e5b9c379aa37a.jpg\n",
      "axes don't match array\n",
      "Failed to export /work/chaselab/malyetama/ADA_Project/datasets/gen1_pokemon_resized/46abc178db1045159ddd6f4787aa1749.jpg\n",
      "axes don't match array\n",
      "Failed to export /work/chaselab/malyetama/ADA_Project/datasets/gen1_pokemon_resized/2e099a03d0a94ed6b0c020838dff16ae.jpg\n",
      "axes don't match array\n",
      "Failed to export /work/chaselab/malyetama/ADA_Project/datasets/gen1_pokemon_resized/1d4cfe2be25f4e659bf3d51b03664ba9.jpg\n",
      "axes don't match array\n",
      "Failed to export /work/chaselab/malyetama/ADA_Project/datasets/gen1_pokemon_resized/a79339fd861f478ab00c3f8e4e5903b7.jpg\n",
      "\n",
      "Failed to export /work/chaselab/malyetama/ADA_Project/datasets/gen1_pokemon_resized/00000031.png\n",
      "axes don't match array\n",
      "Failed to export /work/chaselab/malyetama/ADA_Project/datasets/gen1_pokemon_resized/1ff542a306474670b811323754781957.jpg\n",
      "axes don't match array\n",
      "Failed to export /work/chaselab/malyetama/ADA_Project/datasets/gen1_pokemon_resized/2a93df4cedc147b79d95b440c6945dd6.jpg\n",
      "axes don't match array\n",
      "Failed to export /work/chaselab/malyetama/ADA_Project/datasets/gen1_pokemon_resized/e7ffbad6f4b84beda3d43acbccd3bf03.jpg\n",
      "axes don't match array\n",
      "Failed to export /work/chaselab/malyetama/ADA_Project/datasets/gen1_pokemon_resized/cb7fa9b6c1394875beec40bb1bc3e796.jpg\n",
      "axes don't match array\n",
      "Failed to export /work/chaselab/malyetama/ADA_Project/datasets/gen1_pokemon_resized/fe85bf1b5e8a4bbdb612bbd27e516906.jpg\n",
      "axes don't match array\n",
      "Failed to export /work/chaselab/malyetama/ADA_Project/datasets/gen1_pokemon_resized/59bef3942b6041b3a6e0526100264536.jpg\n",
      "axes don't match array\n",
      "Failed to export /work/chaselab/malyetama/ADA_Project/datasets/gen1_pokemon_resized/34679eb034904068b52c9e9bd182aeda.jpg\n",
      "axes don't match array\n",
      "Failed to export /work/chaselab/malyetama/ADA_Project/datasets/gen1_pokemon_resized/c910e7816cf64409bec3ad1e8ae05211.jpg\n",
      "870 / 9950\n",
      "Failed to export /work/chaselab/malyetama/ADA_Project/datasets/gen1_pokemon_resized/00000169.png\n",
      "880 / 9950\n",
      "Failed to export /work/chaselab/malyetama/ADA_Project/datasets/gen1_pokemon_resized/00000231.png\n",
      "axes don't match array\n",
      "Failed to export /work/chaselab/malyetama/ADA_Project/datasets/gen1_pokemon_resized/e9e7c50a0595476aab0697419ac2a0b3.jpg\n",
      "axes don't match array\n",
      "Failed to export /work/chaselab/malyetama/ADA_Project/datasets/gen1_pokemon_resized/b558efd3d5344f608bb69ed35c1d7ec4.jpg\n",
      "axes don't match array\n",
      "Failed to export /work/chaselab/malyetama/ADA_Project/datasets/gen1_pokemon_resized/8c0866fdc08243928f877b432a61e021.jpg\n",
      "axes don't match array\n",
      "Failed to export /work/chaselab/malyetama/ADA_Project/datasets/gen1_pokemon_resized/0d7660d5de344d848ca9c7f1a22ca577.jpg\n",
      "axes don't match array\n",
      "Failed to export /work/chaselab/malyetama/ADA_Project/datasets/gen1_pokemon_resized/2d0848bba2ea406a8ad91e91ec6a1563.jpg\n",
      "axes don't match array\n",
      "Failed to export /work/chaselab/malyetama/ADA_Project/datasets/gen1_pokemon_resized/e40bbdd33aee4337b4ddeecd27f88248.jpg\n",
      "axes don't match array\n",
      "Failed to export /work/chaselab/malyetama/ADA_Project/datasets/gen1_pokemon_resized/00000078.png\n",
      "1020 / 9950\n",
      "Failed to export /work/chaselab/malyetama/ADA_Project/datasets/gen1_pokemon_resized/00000040.png\n",
      "axes don't match array\n",
      "Failed to export /work/chaselab/malyetama/ADA_Project/datasets/gen1_pokemon_resized/80298dab6a5b42f99a3172825d68c174.jpg\n",
      "axes don't match array\n",
      "Failed to export /work/chaselab/malyetama/ADA_Project/datasets/gen1_pokemon_resized/17f939ae9a2e4869b4eb9d54ca9d6623.jpg\n",
      "\n",
      "Failed to export /work/chaselab/malyetama/ADA_Project/datasets/gen1_pokemon_resized/00000099.png\n",
      "axes don't match array\n",
      "Failed to export /work/chaselab/malyetama/ADA_Project/datasets/gen1_pokemon_resized/e84a5ce712eb49d59cd5d85123e302c1.jpg\n",
      "axes don't match array\n",
      "Failed to export /work/chaselab/malyetama/ADA_Project/datasets/gen1_pokemon_resized/f5dc566441f4448bad6b053f338e14cf.jpg\n"
     ]
    },
    {
     "name": "stdout",
     "output_type": "stream",
     "text": [
      "axes don't match array\n",
      "Failed to export /work/chaselab/malyetama/ADA_Project/datasets/gen1_pokemon_resized/67e860cff57c40d6bd0b303db4a4f04f.jpg\n",
      "1120 / 9950\n",
      "Failed to export /work/chaselab/malyetama/ADA_Project/datasets/gen1_pokemon_resized/00000222.png\n",
      "axes don't match array\n",
      "Failed to export /work/chaselab/malyetama/ADA_Project/datasets/gen1_pokemon_resized/a6497efd977c4f3d9dcb7b2a54d6f690.jpg\n",
      "axes don't match array\n",
      "Failed to export /work/chaselab/malyetama/ADA_Project/datasets/gen1_pokemon_resized/d1633622c82a434ebff07fb2ac5e6701.jpg\n",
      "axes don't match array\n",
      "Failed to export /work/chaselab/malyetama/ADA_Project/datasets/gen1_pokemon_resized/ea9ad5fd283a4c3586ea70fed9b8ce1c.jpg\n",
      "axes don't match array\n",
      "Failed to export /work/chaselab/malyetama/ADA_Project/datasets/gen1_pokemon_resized/e30256b4699446b7b9b242d42375b90a.jpg\n",
      "axes don't match array\n",
      "Failed to export /work/chaselab/malyetama/ADA_Project/datasets/gen1_pokemon_resized/4a1628377cab40b094012d3852b346a1.jpg\n",
      "axes don't match array\n",
      "Failed to export /work/chaselab/malyetama/ADA_Project/datasets/gen1_pokemon_resized/e268cee8e1814ac29fe080ed00962900.jpg\n",
      "axes don't match array\n",
      "Failed to export /work/chaselab/malyetama/ADA_Project/datasets/gen1_pokemon_resized/d4a11da59a0b40109fd69b5dc58c0b1c.jpg\n",
      "1200 / 9950\n",
      "Failed to export /work/chaselab/malyetama/ADA_Project/datasets/gen1_pokemon_resized/00000008.png\n",
      "1210 / 9950\n",
      "Failed to export /work/chaselab/malyetama/ADA_Project/datasets/gen1_pokemon_resized/00000036.png\n",
      "\n",
      "Failed to export /work/chaselab/malyetama/ADA_Project/datasets/gen1_pokemon_resized/00000138.png\n",
      "1220 / 9950\n",
      "Failed to export /work/chaselab/malyetama/ADA_Project/datasets/gen1_pokemon_resized/00000152.png\n",
      "axes don't match array\n",
      "Failed to export /work/chaselab/malyetama/ADA_Project/datasets/gen1_pokemon_resized/00000175.png\n",
      "Added 1235 images.                      \n"
     ]
    },
    {
     "ename": "KeyboardInterrupt",
     "evalue": "",
     "output_type": "error",
     "traceback": [
      "\u001b[0;31m---------------------------------------------------------------------------\u001b[0m",
      "\u001b[0;31mKeyboardInterrupt\u001b[0m                         Traceback (most recent call last)",
      "\u001b[0;32m<ipython-input-31-2ee4ad44de14>\u001b[0m in \u001b[0;36m<module>\u001b[0;34m\u001b[0m\n\u001b[1;32m      1\u001b[0m DeepFAMS.preprocessing.tf_record_exporter(\n\u001b[0;32m----> 2\u001b[0;31m     tfrecord_dir=DATA_CUSTOM_DIR, image_dir=RESIZED_IMGS_DIR, shuffle=1)\n\u001b[0m",
      "\u001b[0;32m/work/chaselab/malyetama/ADA_Project/DeepFAMS/preprocessing.py\u001b[0m in \u001b[0;36mtf_record_exporter\u001b[0;34m(tfrecord_dir, image_dir, shuffle)\u001b[0m\n\u001b[1;32m    177\u001b[0m                     \u001b[0mprint\u001b[0m\u001b[0;34m(\u001b[0m\u001b[0;34mf'Failed to export {image_filenames[order[idx]]}'\u001b[0m\u001b[0;34m)\u001b[0m\u001b[0;34m\u001b[0m\u001b[0;34m\u001b[0m\u001b[0m\n\u001b[1;32m    178\u001b[0m \u001b[0;34m\u001b[0m\u001b[0m\n\u001b[0;32m--> 179\u001b[0;31m     \u001b[0mcreate_from_images\u001b[0m\u001b[0;34m(\u001b[0m\u001b[0mtfrecord_dir\u001b[0m\u001b[0;34m,\u001b[0m \u001b[0mimage_dir\u001b[0m\u001b[0;34m,\u001b[0m \u001b[0mshuffle\u001b[0m\u001b[0;34m)\u001b[0m\u001b[0;34m\u001b[0m\u001b[0;34m\u001b[0m\u001b[0m\n\u001b[0m",
      "\u001b[0;32m/work/chaselab/malyetama/ADA_Project/DeepFAMS/preprocessing.py\u001b[0m in \u001b[0;36mcreate_from_images\u001b[0;34m(tfrecord_dir, image_dir, shuffle)\u001b[0m\n\u001b[1;32m    171\u001b[0m                     \u001b[0;32melse\u001b[0m\u001b[0;34m:\u001b[0m\u001b[0;34m\u001b[0m\u001b[0;34m\u001b[0m\u001b[0m\n\u001b[1;32m    172\u001b[0m                         \u001b[0mimg\u001b[0m \u001b[0;34m=\u001b[0m \u001b[0mimg\u001b[0m\u001b[0;34m.\u001b[0m\u001b[0mtranspose\u001b[0m\u001b[0;34m(\u001b[0m\u001b[0;34m[\u001b[0m\u001b[0;36m2\u001b[0m\u001b[0;34m,\u001b[0m \u001b[0;36m0\u001b[0m\u001b[0;34m,\u001b[0m \u001b[0;36m1\u001b[0m\u001b[0;34m]\u001b[0m\u001b[0;34m)\u001b[0m \u001b[0;31m# HWC => CHW\u001b[0m\u001b[0;34m\u001b[0m\u001b[0;34m\u001b[0m\u001b[0m\n\u001b[0;32m--> 173\u001b[0;31m                     \u001b[0mtfr\u001b[0m\u001b[0;34m.\u001b[0m\u001b[0madd_image\u001b[0m\u001b[0;34m(\u001b[0m\u001b[0mimg\u001b[0m\u001b[0;34m)\u001b[0m\u001b[0;34m\u001b[0m\u001b[0;34m\u001b[0m\u001b[0m\n\u001b[0m\u001b[1;32m    174\u001b[0m \u001b[0;34m\u001b[0m\u001b[0m\n\u001b[1;32m    175\u001b[0m                 \u001b[0;32mexcept\u001b[0m \u001b[0;34m(\u001b[0m\u001b[0mValueError\u001b[0m\u001b[0;34m,\u001b[0m \u001b[0mOSError\u001b[0m\u001b[0;34m,\u001b[0m \u001b[0mAssertionError\u001b[0m\u001b[0;34m)\u001b[0m \u001b[0;32mas\u001b[0m \u001b[0me\u001b[0m\u001b[0;34m:\u001b[0m\u001b[0;34m\u001b[0m\u001b[0;34m\u001b[0m\u001b[0m\n",
      "\u001b[0;32m/work/chaselab/malyetama/ADA_Project/DeepFAMS/preprocessing.py\u001b[0m in \u001b[0;36madd_image\u001b[0;34m(self, img)\u001b[0m\n\u001b[1;32m    120\u001b[0m                 \u001b[0;32mif\u001b[0m \u001b[0mlod\u001b[0m\u001b[0;34m:\u001b[0m\u001b[0;34m\u001b[0m\u001b[0;34m\u001b[0m\u001b[0m\n\u001b[1;32m    121\u001b[0m                     \u001b[0mimg\u001b[0m \u001b[0;34m=\u001b[0m \u001b[0mimg\u001b[0m\u001b[0;34m.\u001b[0m\u001b[0mastype\u001b[0m\u001b[0;34m(\u001b[0m\u001b[0mnp\u001b[0m\u001b[0;34m.\u001b[0m\u001b[0mfloat32\u001b[0m\u001b[0;34m)\u001b[0m\u001b[0;34m\u001b[0m\u001b[0;34m\u001b[0m\u001b[0m\n\u001b[0;32m--> 122\u001b[0;31m                     \u001b[0mimg\u001b[0m \u001b[0;34m=\u001b[0m \u001b[0;34m(\u001b[0m\u001b[0mimg\u001b[0m\u001b[0;34m[\u001b[0m\u001b[0;34m:\u001b[0m\u001b[0;34m,\u001b[0m \u001b[0;36m0\u001b[0m\u001b[0;34m:\u001b[0m\u001b[0;34m:\u001b[0m\u001b[0;36m2\u001b[0m\u001b[0;34m,\u001b[0m \u001b[0;36m0\u001b[0m\u001b[0;34m:\u001b[0m\u001b[0;34m:\u001b[0m\u001b[0;36m2\u001b[0m\u001b[0;34m]\u001b[0m \u001b[0;34m+\u001b[0m \u001b[0mimg\u001b[0m\u001b[0;34m[\u001b[0m\u001b[0;34m:\u001b[0m\u001b[0;34m,\u001b[0m \u001b[0;36m0\u001b[0m\u001b[0;34m:\u001b[0m\u001b[0;34m:\u001b[0m\u001b[0;36m2\u001b[0m\u001b[0;34m,\u001b[0m \u001b[0;36m1\u001b[0m\u001b[0;34m:\u001b[0m\u001b[0;34m:\u001b[0m\u001b[0;36m2\u001b[0m\u001b[0;34m]\u001b[0m \u001b[0;34m+\u001b[0m \u001b[0mimg\u001b[0m\u001b[0;34m[\u001b[0m\u001b[0;34m:\u001b[0m\u001b[0;34m,\u001b[0m \u001b[0;36m1\u001b[0m\u001b[0;34m:\u001b[0m\u001b[0;34m:\u001b[0m\u001b[0;36m2\u001b[0m\u001b[0;34m,\u001b[0m \u001b[0;36m0\u001b[0m\u001b[0;34m:\u001b[0m\u001b[0;34m:\u001b[0m\u001b[0;36m2\u001b[0m\u001b[0;34m]\u001b[0m \u001b[0;34m+\u001b[0m \u001b[0mimg\u001b[0m\u001b[0;34m[\u001b[0m\u001b[0;34m:\u001b[0m\u001b[0;34m,\u001b[0m \u001b[0;36m1\u001b[0m\u001b[0;34m:\u001b[0m\u001b[0;34m:\u001b[0m\u001b[0;36m2\u001b[0m\u001b[0;34m,\u001b[0m \u001b[0;36m1\u001b[0m\u001b[0;34m:\u001b[0m\u001b[0;34m:\u001b[0m\u001b[0;36m2\u001b[0m\u001b[0;34m]\u001b[0m\u001b[0;34m)\u001b[0m \u001b[0;34m*\u001b[0m \u001b[0;36m0.25\u001b[0m\u001b[0;34m\u001b[0m\u001b[0;34m\u001b[0m\u001b[0m\n\u001b[0m\u001b[1;32m    123\u001b[0m                 \u001b[0mquant\u001b[0m \u001b[0;34m=\u001b[0m \u001b[0mnp\u001b[0m\u001b[0;34m.\u001b[0m\u001b[0mrint\u001b[0m\u001b[0;34m(\u001b[0m\u001b[0mimg\u001b[0m\u001b[0;34m)\u001b[0m\u001b[0;34m.\u001b[0m\u001b[0mclip\u001b[0m\u001b[0;34m(\u001b[0m\u001b[0;36m0\u001b[0m\u001b[0;34m,\u001b[0m \u001b[0;36m255\u001b[0m\u001b[0;34m)\u001b[0m\u001b[0;34m.\u001b[0m\u001b[0mastype\u001b[0m\u001b[0;34m(\u001b[0m\u001b[0mnp\u001b[0m\u001b[0;34m.\u001b[0m\u001b[0muint8\u001b[0m\u001b[0;34m)\u001b[0m\u001b[0;34m\u001b[0m\u001b[0;34m\u001b[0m\u001b[0m\n\u001b[1;32m    124\u001b[0m                 ex = tf.train.Example(features=tf.train.Features(feature={\n",
      "\u001b[0;31mKeyboardInterrupt\u001b[0m: "
     ]
    }
   ],
   "source": [
    "DeepFAMS.preprocessing.tf_record_exporter(\n",
    "    tfrecord_dir=DATA_CUSTOM_DIR, image_dir=RESIZED_IMGS_DIR, shuffle=1)"
   ]
  },
  {
   "cell_type": "code",
   "execution_count": null,
   "metadata": {},
   "outputs": [],
   "source": [
    "# DeepFAMS.utils.executePopen(\n",
    "# f'''#!/bin/bash\n",
    "# module load anaconda\n",
    "# module load compiler/gcc/4.7\n",
    "# module load cuda\n",
    "# $WORK/.conda/envs/ada-env/bin/python $WORK/ADA_Project/StyleGAN2-ada__source_code/train.py \\\n",
    "# --outdir={TRAIN_RUNS_DIR} \\\n",
    "# --gpus=2 \\\n",
    "# --data={DATA_CUSTOM_DIR} \\\n",
    "# --snap=1 \\\n",
    "# --kimg=1''', PROJ_DIR\n",
    "# )"
   ]
  },
  {
   "cell_type": "code",
   "execution_count": 8,
   "metadata": {},
   "outputs": [
    {
     "name": "stdout",
     "output_type": "stream",
     "text": [
      "/work/chaselab/malyetama/ADA_Project/training_runs/gen1_pokemon_training-runs/00008-gen1_pokemon_custom-auto2-resumecustom/network-snapshot-000110.pkl\n"
     ]
    }
   ],
   "source": [
    "for num in range(-1, -10, -1):\n",
    "    files = DeepFAMS.utils.last_snap(num, TRAIN_RUNS_DIR)\n",
    "    if files != []:\n",
    "        break\n",
    "\n",
    "latest_snap = sorted(files)[-1]\n",
    "print(latest_snap)"
   ]
  },
  {
   "cell_type": "code",
   "execution_count": null,
   "metadata": {},
   "outputs": [],
   "source": [
    "DeepFAMS.utils.execute('nvidia-smi')"
   ]
  },
  {
   "cell_type": "code",
   "execution_count": null,
   "metadata": {},
   "outputs": [],
   "source": [
    "run_desc, training_options = DeepFAMS.setup_training_options(\n",
    "    gpus       = 2,\n",
    "    snap       = 1,\n",
    "    data       = DATA_CUSTOM_DIR,\n",
    "    resume     = latest_snap\n",
    ")"
   ]
  },
  {
   "cell_type": "code",
   "execution_count": null,
   "metadata": {},
   "outputs": [],
   "source": [
    "DeepFAMS.RunTraining(outdir=TRAIN_RUNS_DIR, seed=1000,\n",
    "             dry_run=True, run_desc=run_desc, training_options=training_options)"
   ]
  },
  {
   "cell_type": "code",
   "execution_count": null,
   "metadata": {},
   "outputs": [],
   "source": [
    "tf.compat.v1.disable_eager_execution()\n",
    "DeepFAMS.RunTraining(outdir=TRAIN_RUNS_DIR, seed=1000,\n",
    "             dry_run=False, run_desc=run_desc, training_options=training_options)"
   ]
  }
 ],
 "metadata": {
  "kernelspec": {
   "display_name": "Python (ada-env)",
   "language": "python",
   "name": "ada-env"
  },
  "language_info": {
   "codemirror_mode": {
    "name": "ipython",
    "version": 3
   },
   "file_extension": ".py",
   "mimetype": "text/x-python",
   "name": "python",
   "nbconvert_exporter": "python",
   "pygments_lexer": "ipython3",
   "version": "3.7.3"
  }
 },
 "nbformat": 4,
 "nbformat_minor": 2
}
